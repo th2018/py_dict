{
 "cells": [
  {
   "cell_type": "markdown",
   "id": "d15f307b",
   "metadata": {},
   "source": [
    "Dictionaries are indexed by keys. Strings and numbers can always be keys."
   ]
  },
  {
   "cell_type": "code",
   "execution_count": 14,
   "id": "12961832",
   "metadata": {},
   "outputs": [],
   "source": [
    "x={\n",
    "    \"Name\":\"Swan Falls Dam\",\n",
    "    \"River\":\"Snake River\"\n",
    "}"
   ]
  },
  {
   "cell_type": "code",
   "execution_count": 15,
   "id": "6efcc2b0",
   "metadata": {},
   "outputs": [
    {
     "data": {
      "text/plain": [
       "{'Name': 'Swan Falls Dam', 'River': 'Snake River'}"
      ]
     },
     "execution_count": 15,
     "metadata": {},
     "output_type": "execute_result"
    }
   ],
   "source": [
    "x"
   ]
  },
  {
   "cell_type": "code",
   "execution_count": 16,
   "id": "baf9d21a",
   "metadata": {},
   "outputs": [
    {
     "data": {
      "text/plain": [
       "dict"
      ]
     },
     "execution_count": 16,
     "metadata": {},
     "output_type": "execute_result"
    }
   ],
   "source": [
    "type(x)"
   ]
  },
  {
   "cell_type": "markdown",
   "id": "ada6aa3b",
   "metadata": {},
   "source": [
    "It is best to think of a dictionary as a set of key: value pairs, with the requirement that the keys are unique (within one dictionary). If you store using a key that is already in use, the old value associated with that key is forgotten."
   ]
  },
  {
   "cell_type": "code",
   "execution_count": 17,
   "id": "eb3d6de7",
   "metadata": {},
   "outputs": [],
   "source": [
    "x1={\n",
    "    \"Name\":\"Swan Falls Dam\",\n",
    "    \"Name\":\"Snake River\"\n",
    "}"
   ]
  },
  {
   "cell_type": "code",
   "execution_count": 18,
   "id": "b704bac0",
   "metadata": {},
   "outputs": [
    {
     "data": {
      "text/plain": [
       "{'Name': 'Snake River'}"
      ]
     },
     "execution_count": 18,
     "metadata": {},
     "output_type": "execute_result"
    }
   ],
   "source": [
    "x1"
   ]
  },
  {
   "cell_type": "code",
   "execution_count": null,
   "id": "6adb219b",
   "metadata": {},
   "outputs": [],
   "source": []
  }
 ],
 "metadata": {
  "kernelspec": {
   "display_name": "Python 3 (ipykernel)",
   "language": "python",
   "name": "python3"
  },
  "language_info": {
   "codemirror_mode": {
    "name": "ipython",
    "version": 3
   },
   "file_extension": ".py",
   "mimetype": "text/x-python",
   "name": "python",
   "nbconvert_exporter": "python",
   "pygments_lexer": "ipython3",
   "version": "3.8.12"
  }
 },
 "nbformat": 4,
 "nbformat_minor": 5
}
